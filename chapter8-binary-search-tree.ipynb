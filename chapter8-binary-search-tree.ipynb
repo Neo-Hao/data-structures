{
 "cells": [
  {
   "attachments": {},
   "cell_type": "markdown",
   "metadata": {},
   "source": [
    "## Loading Libraries\n",
    "\n",
    "Let's import all the necessary packages first. You can safely ignore this section."
   ]
  },
  {
   "cell_type": "code",
   "execution_count": 1,
   "metadata": {
    "vscode": {
     "languageId": "java"
    }
   },
   "outputs": [],
   "source": [
    "import java.util.Random;\n",
    "import java.lang.*;"
   ]
  },
  {
   "cell_type": "code",
   "execution_count": 2,
   "metadata": {
    "vscode": {
     "languageId": "java"
    }
   },
   "outputs": [],
   "source": [
    "%maven org.knowm.xchart:xchart:3.5.2\n",
    "import org.knowm.xchart.*;"
   ]
  },
  {
   "attachments": {},
   "cell_type": "markdown",
   "metadata": {},
   "source": [
    "## Helper Methods\n",
    "\n",
    "Let's code three helper methods:\n",
    "\n",
    "* random array generator\n",
    "* array printer\n",
    "* copyArray\n",
    "\n",
    "It is assumed that you are fully capable of coding two similar methods by yourself. If you are new to Java (but have some experience with a different language), playing with these methods will help you get familiar with Java faster."
   ]
  },
  {
   "cell_type": "code",
   "execution_count": 3,
   "metadata": {
    "vscode": {
     "languageId": "java"
    }
   },
   "outputs": [],
   "source": [
    "// random array generator\n",
    "public int[] randomArr(int size) {\n",
    "    Random r = new Random();\n",
    "    int[] arr = new int[size];\n",
    "    \n",
    "    for (int i = 0; i < size; i++) {\n",
    "        arr[i] = r.nextInt(1000) + 1;\n",
    "    }\n",
    "    \n",
    "    return arr;\n",
    "}\n",
    "\n",
    "// array printer\n",
    "public void printArr(int[] arr) {\n",
    "    for (int num : arr) {\n",
    "        System.out.print(num + \" \");\n",
    "    }\n",
    "    System.out.println();\n",
    "}\n",
    "\n",
    "// array deep copy\n",
    "public void copyArray(int[] from, int[] to) {\n",
    "    if (from.length != to.length) {\n",
    "        System.exit(0);\n",
    "    }\n",
    "    \n",
    "    for (int i = 0; i < from.length; i++) {\n",
    "        to[i] = from[i];\n",
    "    }\n",
    "}"
   ]
  },
  {
   "attachments": {},
   "cell_type": "markdown",
   "metadata": {},
   "source": [
    "## Binary Search Tree"
   ]
  },
  {
   "attachments": {},
   "cell_type": "markdown",
   "metadata": {},
   "source": [
    "Binary Search Tree (BST) is a node-based binary tree data structure. It supports fast searching, although not as fast as hashtable theoretically speaking. However, BST supports many operations that are impossible on a hashtable, such as traversal, order statistics, and range operation. For instance, you can perform an inorder traveral on a BST and generate a fully sorted array. An operation like this is not possible for a hashtable."
   ]
  },
  {
   "attachments": {},
   "cell_type": "markdown",
   "metadata": {},
   "source": [
    "<img src=\"images/bst.png\" width=\"500\"/>"
   ]
  },
  {
   "attachments": {},
   "cell_type": "markdown",
   "metadata": {},
   "source": [
    "Before we talk about the properties of a BST, we have to emphasize that a BST is a node-based binary tree. A node is defined by a key value and two links to other two nodes (its children notdes). The implementation of a node for a binary tree is very similar to a node in a linked list."
   ]
  },
  {
   "cell_type": "code",
   "execution_count": 4,
   "metadata": {
    "vscode": {
     "languageId": "java"
    }
   },
   "outputs": [],
   "source": [
    "public class Node {\n",
    "   int key;\n",
    "   Node left, right, parent;\n",
    "   \n",
    "   public Node() {}\n",
    "\n",
    "   public Node(int num) {\n",
    "      key = num;\n",
    "      left = null;\n",
    "      right = null;\n",
    "      parent = null;\n",
    "   }\n",
    "}"
   ]
  },
  {
   "attachments": {},
   "cell_type": "markdown",
   "metadata": {},
   "source": [
    "Now let's talk about the properties of a BST:\n",
    "\n",
    "* The left subtree of a node contains only nodes with keys lesser than the node’s key.\n",
    "* The right subtree of a node contains only nodes with keys greater than the node’s key.\n",
    "* The left and right subtree each must also be a binary search tree.\n",
    "\n",
    "You can refer to the image two cells above this one as a good example. \n",
    "\n",
    "A BST supports four basic operations, including:\n",
    "\n",
    "* Search: Search for a node with a specified value\n",
    "* Insert: Insert a node with a specified value\n",
    "* Delete: Delete the node with a specified value\n",
    "* Traversal: Traverse the whole BST in some order and print out values of all nodes.\n",
    "\n",
    "Let's start implementing two basic operations, including:\n",
    "\n",
    "* Insert\n",
    "* Traversal\n",
    "\n",
    "The reason is that calling Insert method will help us build a BST iteratively, and calling Traversal will help us do some sanity check. Without these two methods, Search and Delete do not make much sense yet. \n",
    "\n",
    "Insert works in a way that all new nodes are added at the bottom level of the existing BST. We start by comparing the new value with the key of the root. If the value is smaller than the key, we continue the comparison on the value and the key of root.left. Otherwise we continue the comparison on the value and the key of root.right. This process will continue until we reach the bottom level of the BST and add the node with the new value as the key.\n",
    "\n",
    "We will limit the traversal to inorder traversal here. Inorder traversal of a BST generates a sorted list or array of values. Given a node in a BST, inorder traversal works in a way that:\n",
    "\n",
    "* prints out the values of all nodes in the left subtree of the node first\n",
    "* prints out the value of this node second\n",
    "* prints out the values of all nodes in the right subtree of the node third"
   ]
  },
  {
   "cell_type": "code",
   "execution_count": 5,
   "metadata": {
    "vscode": {
     "languageId": "java"
    }
   },
   "outputs": [],
   "source": [
    "public class Node {\n",
    "   int key;\n",
    "   Node left, right, parent;\n",
    "   \n",
    "   public Node() {}\n",
    "\n",
    "   public Node(int num) {\n",
    "      key = num;\n",
    "      left = null;\n",
    "      right = null;\n",
    "      parent = null;\n",
    "   }\n",
    "}\n",
    "\n",
    "public class BST{\n",
    "    public Node root;\n",
    "    \n",
    "    public BST() {\n",
    "        root = null;\n",
    "    }\n",
    "    \n",
    "    // insert\n",
    "    public void insert(int data) {\n",
    "        root = insert(root, data);\n",
    "    }\n",
    "    \n",
    "    // insert helper\n",
    "    private Node insert(Node node, int data) {\n",
    "        if (node == null) {\n",
    "            node = new Node(data);\n",
    "        } else if (data < node.key) {\n",
    "             Node leftChild = insert(node.left, data);\n",
    "             node.left = leftChild;\n",
    "        } else if (data == node.key) {\n",
    "             node.key = data;\n",
    "        } else {\n",
    "             Node rightChild = insert(node.right, data);\n",
    "             node.right = rightChild;\n",
    "        }\n",
    "        \n",
    "        return node;\n",
    "    }\n",
    "\n",
    "    // traversal\n",
    "    public void inOrderTraversal() {\n",
    "        inOrderTraversal(root);\n",
    "    }\n",
    "    \n",
    "    // traversal helper\n",
    "    private void inOrderTraversal(Node node) {\n",
    "        if (node != null) {\n",
    "            inOrderTraversal(node.left);\n",
    "            System.out.print(node.key + \" \");\n",
    "            inOrderTraversal(node.right);\n",
    "        }\n",
    "    }\n",
    "}"
   ]
  },
  {
   "attachments": {},
   "cell_type": "markdown",
   "metadata": {},
   "source": [
    "Now let's perform a sanity check on our implementation. Please change the size and run the following cell yourself for a few times."
   ]
  },
  {
   "cell_type": "code",
   "execution_count": 6,
   "metadata": {
    "vscode": {
     "languageId": "java"
    }
   },
   "outputs": [
    {
     "name": "stdout",
     "output_type": "stream",
     "text": [
      "The values of the array include:\t346 384 206 113 114 \n",
      "The values of BST include:\t\t113 114 206 346 384 "
     ]
    }
   ],
   "source": [
    "// sanity check\n",
    "int size = 5;\n",
    "int[] values = randomArr(size);\n",
    "System.out.print(\"The values of the array include:\\t\");\n",
    "printArr(values);\n",
    "\n",
    "BST b = new BST();\n",
    "for (int num: values) {\n",
    "    b.insert(num);\n",
    "}\n",
    "// in case we got a value the same as a node's value\n",
    "b.insert(values[0]);\n",
    "// print out your BST\n",
    "System.out.print(\"The values of BST include:\\t\\t\");\n",
    "b.inOrderTraversal();"
   ]
  },
  {
   "attachments": {},
   "cell_type": "markdown",
   "metadata": {},
   "source": [
    "The above check confirms that our Insert method works fine. Let's move to implement Search method.\n",
    "\n",
    "The Search method works in a way that is very similar to binary search. We start by comparing the target with the root's value. If the target is smaller, we compare the target with the value of root.left. Otherwise, we compare the target with the value of root.right. The comparision will continue till you reach the bottom level of the tree."
   ]
  },
  {
   "cell_type": "code",
   "execution_count": 7,
   "metadata": {
    "vscode": {
     "languageId": "java"
    }
   },
   "outputs": [],
   "source": [
    "public class Node {\n",
    "   int key;\n",
    "   Node left, right, parent;\n",
    "   \n",
    "   public Node() {}\n",
    "\n",
    "   public Node(int num) {\n",
    "      key = num;\n",
    "      left = null;\n",
    "      right = null;\n",
    "      parent = null;\n",
    "   }\n",
    "}\n",
    "\n",
    "public class BST{\n",
    "    public Node root;\n",
    "    \n",
    "    public BST() {\n",
    "        root = null;\n",
    "    }\n",
    "    \n",
    "    // insert\n",
    "    public void insert(int data) {\n",
    "        root = insert(root, data);\n",
    "    }\n",
    "    \n",
    "    // insert helper\n",
    "    private Node insert(Node node, int data) {\n",
    "        if (node == null) {\n",
    "            node = new Node(data);\n",
    "        } else if (data < node.key) {\n",
    "             Node leftChild = insert(node.left, data);\n",
    "             node.left = leftChild;\n",
    "        } else if (data == node.key) {\n",
    "             node.key = data;\n",
    "        } else {\n",
    "             Node rightChild = insert(node.right, data);\n",
    "             node.right = rightChild;\n",
    "        }\n",
    "        \n",
    "        return node;\n",
    "    }\n",
    "\n",
    "    // search\n",
    "    public boolean search(int target) {\n",
    "        return search(target, root);\n",
    "    }\n",
    "    \n",
    "    // search helper\n",
    "    private boolean search(int target, Node node) {\n",
    "        if (node == null) {\n",
    "            return false;\n",
    "        } else if (node.key == target) {\n",
    "            return true;\n",
    "        }\n",
    "        \n",
    "        if (target < node.key) {\n",
    "            return search(target, node.left);\n",
    "        } else {\n",
    "            return search(target, node.right);\n",
    "        }\n",
    "    }\n",
    "    \n",
    "    // traversal\n",
    "    public void inOrderTraversal() {\n",
    "        inOrderTraversal(root);\n",
    "    }\n",
    "    \n",
    "    // traversal helper\n",
    "    private void inOrderTraversal(Node node) {\n",
    "        if (node != null) {\n",
    "            inOrderTraversal(node.left);\n",
    "            System.out.print(node.key + \" \");\n",
    "            inOrderTraversal(node.right);\n",
    "        }\n",
    "    }\n",
    "}"
   ]
  },
  {
   "attachments": {},
   "cell_type": "markdown",
   "metadata": {},
   "source": [
    "Now let's perform a sanity check on our implementation. Please change the search value and run the following cell yourself for a few times."
   ]
  },
  {
   "cell_type": "code",
   "execution_count": 8,
   "metadata": {
    "vscode": {
     "languageId": "java"
    }
   },
   "outputs": [
    {
     "name": "stdout",
     "output_type": "stream",
     "text": [
      "The values of the array include:\t897 388 314 756 250 \n",
      "The values of BST include:\t\t250 314 388 756 897 \n",
      "The value 897 exists in the BST.\n"
     ]
    }
   ],
   "source": [
    "// sanity check\n",
    "int size = 5;\n",
    "int[] values = randomArr(size);\n",
    "System.out.print(\"The values of the array include:\\t\");\n",
    "printArr(values);\n",
    "\n",
    "BST b = new BST();\n",
    "for (int num: values) {\n",
    "    b.insert(num);\n",
    "}\n",
    "System.out.print(\"The values of BST include:\\t\\t\");\n",
    "b.inOrderTraversal();\n",
    "System.out.println();\n",
    "\n",
    "if (b.search(values[0]) == true) {\n",
    "    System.out.println(\"The value \" + values[0] + \" exists in the BST.\");\n",
    "} else {\n",
    "    System.out.println(\"The value \" + values[0] + \" does not exists in the BST.\");\n",
    "}"
   ]
  },
  {
   "attachments": {},
   "cell_type": "markdown",
   "metadata": {},
   "source": [
    "The delete method is more challenging that any of the above methods we have implemented. **Given that this is part of your lab assignments, we will omit its implementation here.** However, we can certainly implement a set of other helper methods to make your job easier.\n",
    "\n",
    "Think from the angle of your users who will call your delete method. They want it to be easy to use and all they care about is to get the node with the specified value deleted. If the value doesn't exists, the BST may remain unchanged. \n",
    "\n",
    "If there is a method that can help us retrieve a node given a specified value, it will be handy for the above tasks. You can think it as a common get method as you typically implement for data structures representing real life objects. This method of yours will take an integer as the paramter. This method will return a node with the key same as the integer, if there is such a node. Otherwise, this method returns null.\n",
    "\n",
    "You can find its implementation below:"
   ]
  },
  {
   "cell_type": "code",
   "execution_count": 9,
   "metadata": {
    "vscode": {
     "languageId": "java"
    }
   },
   "outputs": [],
   "source": [
    "public class Node {\n",
    "   int key;\n",
    "   Node left, right, parent;\n",
    "   \n",
    "   public Node() {}\n",
    "\n",
    "   public Node(int num) {\n",
    "      key = num;\n",
    "      left = null;\n",
    "      right = null;\n",
    "      parent = null;\n",
    "   }\n",
    "}\n",
    "\n",
    "public class BST{\n",
    "    public Node root;\n",
    "    \n",
    "    public BST() {\n",
    "        root = null;\n",
    "    }\n",
    "    \n",
    "    // insert\n",
    "    public void insert(int data) {\n",
    "        root = insert(root, data);\n",
    "    }\n",
    "    \n",
    "    // insert helper\n",
    "    private Node insert(Node node, int data) {\n",
    "        if (node == null) {\n",
    "            node = new Node(data);\n",
    "        } else if (data < node.key) {\n",
    "             Node leftChild = insert(node.left, data);\n",
    "             node.left = leftChild;\n",
    "        } else if (data == node.key) {\n",
    "             node.key = data;\n",
    "        } else {\n",
    "             Node rightChild = insert(node.right, data);\n",
    "             node.right = rightChild;\n",
    "        }\n",
    "        \n",
    "        return node;\n",
    "    }\n",
    "\n",
    "    // search\n",
    "    public boolean search(int target) {\n",
    "        return search(target, root);\n",
    "    }\n",
    "    \n",
    "    // search helper\n",
    "    private boolean search(int target, Node node) {\n",
    "        if (node == null) {\n",
    "            return false;\n",
    "        } else if (node.key == target) {\n",
    "            return true;\n",
    "        }\n",
    "        \n",
    "        if (target < node.key) {\n",
    "            return search(target, node.left);\n",
    "        } else {\n",
    "            return search(target, node.right);\n",
    "        }\n",
    "    }\n",
    "    \n",
    "    // traversal\n",
    "    public void inOrderTraversal() {\n",
    "        inOrderTraversal(root);\n",
    "    }\n",
    "    \n",
    "    // traversal helper\n",
    "    private void inOrderTraversal(Node node) {\n",
    "        if (node != null) {\n",
    "            inOrderTraversal(node.left);\n",
    "            System.out.print(node.key + \" \");\n",
    "            inOrderTraversal(node.right);\n",
    "        }\n",
    "    }\n",
    "    \n",
    "    // get\n",
    "    public Node get(int target) {\n",
    "        return get(root, target);\n",
    "    }\n",
    "    \n",
    "    private Node get(Node node, int target) {\n",
    "        if (node == null) {\n",
    "            return node;\n",
    "        } else if (target < node.key) {\n",
    "            return get(node.left, target);\n",
    "        } else if (target > node.key) {\n",
    "            return get(node.right, target);\n",
    "        } else {\n",
    "            return node;\n",
    "        }\n",
    "    }\n",
    "}"
   ]
  },
  {
   "cell_type": "code",
   "execution_count": 10,
   "metadata": {
    "vscode": {
     "languageId": "java"
    }
   },
   "outputs": [
    {
     "name": "stdout",
     "output_type": "stream",
     "text": [
      "The values of BST include:\t\t93 335 346 688 990 \n",
      "The value 335 exists in the BST.\n",
      "The value 1000 does not exists in the BST.\n"
     ]
    }
   ],
   "source": [
    "// sanity check\n",
    "int size = 5;\n",
    "int[] values = randomArr(size);\n",
    "BST b = new BST();\n",
    "for (int num: values) {\n",
    "    b.insert(num);\n",
    "}\n",
    "System.out.print(\"The values of BST include:\\t\\t\");\n",
    "b.inOrderTraversal();\n",
    "System.out.println();\n",
    "\n",
    "if (b.get(values[0]) != null) {\n",
    "    System.out.println(\"The value \" + values[0] + \" exists in the BST.\");\n",
    "} else {\n",
    "    System.out.println(\"The value \" + values[0] + \" does not exists in the BST.\");\n",
    "}\n",
    "\n",
    "int num = 1000;\n",
    "if (b.get(num) != null) {\n",
    "    System.out.println(\"The value \" + num + \" exists in the BST.\");\n",
    "} else {\n",
    "    System.out.println(\"The value \" + num + \" does not exists in the BST.\");\n",
    "}"
   ]
  },
  {
   "attachments": {},
   "cell_type": "markdown",
   "metadata": {},
   "source": [
    "## Do It Yourself"
   ]
  },
  {
   "attachments": {},
   "cell_type": "markdown",
   "metadata": {},
   "source": [
    "#### Practice - Binary Tree Level Order Traversal\n",
    "\n",
    "Given a binary tree, return the level order traversal of its nodes' values. (ie, from left to right, level by level). For example, given a binary tree\n",
    "```\n",
    "    3\n",
    "   / \\\n",
    "  9  20\n",
    "    /  \\\n",
    "   15   7\n",
    "```\n",
    "return its level order traversal as:\n",
    "```\n",
    "[\n",
    "  [3],\n",
    "  [9,20],\n",
    "  [15,7]\n",
    "]\n",
    "```\n",
    "Could you please:\n",
    "\n",
    "* write a solution to this problem?\n",
    "* write a test for your solution?"
   ]
  },
  {
   "cell_type": "code",
   "execution_count": 11,
   "metadata": {
    "vscode": {
     "languageId": "java"
    }
   },
   "outputs": [],
   "source": [
    "/**\n",
    " * Definition for a binary tree node.\n",
    "**/\n",
    "public class Node {\n",
    "    int val;\n",
    "    Node left, right;\n",
    "    \n",
    "    public Node(int x) { \n",
    "        val = x; \n",
    "    }\n",
    "}"
   ]
  },
  {
   "cell_type": "code",
   "execution_count": 12,
   "metadata": {
    "vscode": {
     "languageId": "java"
    }
   },
   "outputs": [],
   "source": [
    "// you have to use the provided method name and parameters\n",
    "class BTTraversal {\n",
    "    public List<List<Integer>> levelOrder(Node root) {\n",
    "        // remove the following lines\n",
    "        List<List<Integer>> result = new ArrayList<List<Integer>>();\n",
    "        return result;\n",
    "    }\n",
    "}"
   ]
  },
  {
   "attachments": {},
   "cell_type": "markdown",
   "metadata": {},
   "source": [
    "**When you finish (or not) playing your exploration of the whole interactive notebook and DIY assignment, you should download a html file and upload it to the assignment box on Canvas:**\n",
    "\n",
    "* File --> Download as --> HTML (.html)\n",
    "\n",
    "![download](images/html.png)"
   ]
  }
 ],
 "metadata": {
  "kernelspec": {
   "display_name": "Java",
   "language": "java",
   "name": "java"
  },
  "language_info": {
   "codemirror_mode": "java",
   "file_extension": ".jshell",
   "mimetype": "text/x-java-source",
   "name": "Java",
   "pygments_lexer": "java",
   "version": "12.0.2+10"
  }
 },
 "nbformat": 4,
 "nbformat_minor": 2
}
